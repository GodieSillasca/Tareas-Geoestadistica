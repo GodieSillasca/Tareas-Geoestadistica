{
 "cells": [
  {
   "cell_type": "markdown",
   "metadata": {},
   "source": [
    "### Geoestadística\n",
    "### Tarea 14\n",
    "### 11 de noviembre de 2020\n",
    "#### Casillas Muñoz, Diego Armando"
   ]
  },
  {
   "cell_type": "markdown",
   "metadata": {},
   "source": [
    "---\n",
    "### INSTRUCCIONES"
   ]
  },
  {
   "cell_type": "markdown",
   "metadata": {},
   "source": [
    "Contesta en el bloque correspondiente cada una de las siguientes preguntas, tendrás que entregar dos documentos, el primero es este Jupyter Notebook contestado (recomiendo el que cuando estes seguro de que esta completa tu tarea, en *Kernel* seleccionar **Restart & Run All**, así mismo, entrega el PDF de este Jupyter Notebook, yendote a *File* y seleccionando *Download as* -> PDF via LaTex (.pdf). \n",
    "\n",
    "\n",
    "**OJO** los usuarios Windows sólo tienen que instalar lo que se les solicite (aparecerá una ventana emergente). Mientras que los usuarios Linux y MacOS tendrán que instalar Tex por aparte, creo que esto les puede ayudar <!-- [Text](link) -->\n",
    "[Installing TeX](https://nbconvert.readthedocs.io/en/latest/install.html#installing-tex \"Installing TeX\").   \n",
    "\n",
    "La nomenclatura de los dos archivos a entregar es, ejemplo:\n",
    "> **dariosolano_t14_geoest.ipynb/pdf**\n",
    "---"
   ]
  },
  {
   "cell_type": "markdown",
   "metadata": {},
   "source": [
    "**1.** *(1P)* Sean las listas L1 y L2 las siguientes\n",
    "```python\n",
    "L1 = [23, 25, 24, 92, 43, 34, 93, 29, 25]\n",
    "L2 = [12, 96, 14, 68, 13, 90, 84, 83]\n",
    "```\n",
    "**GENERA** una tercer lista (L3) que contenga a los elementos de las posiciones PARES de L1, y también a los elementos de las posiciones IMPARES de L2.\n",
    "\n",
    "**NOTA**: Recuerda que las posiciones en Python comienzan en 0."
   ]
  },
  {
   "cell_type": "code",
   "execution_count": 1,
   "metadata": {},
   "outputs": [
    {
     "data": {
      "text/plain": [
       "[23, 24, 43, 93, 25, 96, 68, 90, 83]"
      ]
     },
     "execution_count": 1,
     "metadata": {},
     "output_type": "execute_result"
    }
   ],
   "source": [
    "L1 = [23, 25, 24, 92, 43, 34, 93, 29, 25]\n",
    "L2 = [12, 96, 14, 68, 13, 90, 84, 83]\n",
    "\n",
    "L3 = [L1[i] for i in range(0,9,2)] + [L2[i] for i in range(1,8,2)]\n",
    "L3"
   ]
  },
  {
   "cell_type": "markdown",
   "metadata": {},
   "source": [
    "**2.** *(1P)* Sean las tuplas T1 y T2 las siguientes\n",
    "```python\n",
    "T1= (2, 5, 7, 11, 9, 4)\n",
    "T2= (3, 5, 5, 9, 6, 10)\n",
    "```\n",
    "**GENERA** una lista llamada **PARES** usando los elementos de T1 y T2 que se ubiquen en la misma posición, ejemplo:\n",
    "\n",
    "PARES[1]=(T1[1], T2[1]).\n",
    "\n",
    "**NOTA**: Los elementos en **PARES** deben ser objetos de tipo tuple"
   ]
  },
  {
   "cell_type": "code",
   "execution_count": 2,
   "metadata": {},
   "outputs": [
    {
     "data": {
      "text/plain": [
       "[(2, 3), (5, 5), (7, 5), (11, 9), (9, 6), (4, 10)]"
      ]
     },
     "execution_count": 2,
     "metadata": {},
     "output_type": "execute_result"
    }
   ],
   "source": [
    "T1= (2, 5, 7, 11, 9, 4)\n",
    "T2= (3, 5, 5, 9, 6, 10)\n",
    "PARES = [(T1[i],T2[i]) for i in range(len(T1))]\n",
    "PARES"
   ]
  },
  {
   "cell_type": "markdown",
   "metadata": {},
   "source": [
    "**3.** *(2P)* Con la lista **PARES** *(generada en el ejercicio anterior)*, y suponiendo que los elementos en dicha lista son equivalentes a coordenadas (x,y).\n",
    "\n",
    "**GENERA** una nueva lista llamada **DISTANCIA** que guarde la distancia que hay entre los elementos con el mismo índice de listas **PARES** y **PUNTOS**.\n",
    "\n",
    "```python\n",
    "PUNTOS = [(10, 1), (9, 6), (5, 5), (7, 1), (5, 12),(3, 7)]\n",
    "```\n",
    "**NOTA**: $d=\\sqrt{(x_1 - x_2)^2 + (y_1 - y_2)^2}$"
   ]
  },
  {
   "cell_type": "code",
   "execution_count": 3,
   "metadata": {},
   "outputs": [
    {
     "data": {
      "text/plain": [
       "[8.246211251235321,\n",
       " 4.123105625617661,\n",
       " 2.0,\n",
       " 8.94427190999916,\n",
       " 7.211102550927978,\n",
       " 3.1622776601683795]"
      ]
     },
     "execution_count": 3,
     "metadata": {},
     "output_type": "execute_result"
    }
   ],
   "source": [
    "PUNTOS = [(10, 1), (9, 6), (5, 5), (7, 1), (5, 12),(3, 7)]\n",
    "\n",
    "DISTANCIA = []\n",
    "for i in range(len(PUNTOS)):\n",
    "    dist=((PUNTOS[i][0]-PARES[i][0])**2+(PUNTOS[i][1]-PARES[i][1])**2)**.5\n",
    "    DISTANCIA.append(dist)\n",
    "DISTANCIA"
   ]
  },
  {
   "cell_type": "markdown",
   "metadata": {},
   "source": [
    "**4.** *(1P)* Sean las siguientes listas:\n",
    "\n",
    "```python\n",
    "M1 = ['Enero', 'Febrero', 'Marzo', 'Abril', 'Mayo', 'Junio']\n",
    "M2 = ['Julio', 'Agosto', 'Septiembre', 'Octubre', 'Noviembre', 'Diciembre']\n",
    "\n",
    "D1 = ['31','31','30','31','30','31']\n",
    "D2 = ['31','28','31','30','31','30']\n",
    "```\n",
    "Crea un diccionario, en el cual las *KEY* sean los meses del año, y los *VALUE* sean los días que tienen-\n",
    "\n",
    "**Nota**: Los VALUE tienen que ser de tipo ENTERO."
   ]
  },
  {
   "cell_type": "code",
   "execution_count": 4,
   "metadata": {},
   "outputs": [
    {
     "data": {
      "text/plain": [
       "{'Enero': 31,\n",
       " 'Febrero': 28,\n",
       " 'Marzo': 31,\n",
       " 'Abril': 30,\n",
       " 'Mayo': 31,\n",
       " 'Junio': 30,\n",
       " 'Julio': 31,\n",
       " 'Agosto': 31,\n",
       " 'Septiembre': 30,\n",
       " 'Octubre': 31,\n",
       " 'Noviembre': 30,\n",
       " 'Diciembre': 31}"
      ]
     },
     "execution_count": 4,
     "metadata": {},
     "output_type": "execute_result"
    }
   ],
   "source": [
    "M1 = ['Enero', 'Febrero', 'Marzo', 'Abril', 'Mayo', 'Junio']\n",
    "M2 = ['Julio', 'Agosto', 'Septiembre', 'Octubre', 'Noviembre', 'Diciembre']\n",
    "\n",
    "D1 = ['31','31','30','31','30','31']\n",
    "D2 = ['31','28','31','30','31','30']\n",
    "\n",
    "diccionario={}\n",
    "for i in range(len(M1)):\n",
    "    diccionario[M1[i]]=int(D2[i])\n",
    "for i in range(len(M1)):\n",
    "    diccionario[M2[i]]=int(D1[i])\n",
    "diccionario"
   ]
  },
  {
   "cell_type": "markdown",
   "metadata": {},
   "source": [
    "**5.** *(1P)* Sea el siguiente diccionario:\n",
    "```python\n",
    "d = {\"La vuelta al mundo en 80 dias\" : \"Jules Verne\", \"The Hobbit\" : \"J R R Tolkien\", \"Viaje al Centro de la Tierra\" : \"Jules Verne\", \"Yo Robot\" : \"Isaac Asimov\", \"The valley of Fear\" : \"Doyle\", \"The Lord of the Rings\" : \"Tolkien\"} \n",
    "``` \n",
    "Contesta lo siguiente\n",
    "\n",
    "    a) Cambia el VALUE de d[\"The Lord of the Rings\"] a \"J R R Tolkien\".\n",
    "    b) ¿Puede un diccionario contener dos o más elementos en la misma KEY?.\n",
    "    c) Elimina algún libro de Jules Verne y agrega al diccionario tu libro favorito (con su correspondiente autor)."
   ]
  },
  {
   "cell_type": "code",
   "execution_count": 5,
   "metadata": {},
   "outputs": [
    {
     "name": "stdout",
     "output_type": "stream",
     "text": [
      "{'La vuelta al mundo en 80 dias': 'Jules Verne', 'The Hobbit': 'J R R Tolkien', 'Viaje al Centro de la Tierra': 'Jules Verne', 'Yo Robot': 'Isaac Asimov', 'The valley of Fear': 'Doyle', 'The Lord of the Rings': 'J R R Tolkien'} \n",
      "\n",
      "Nelson Mandela\n",
      "\n",
      "{'The Hobbit': 'J R R Tolkien', 'Viaje al Centro de la Tierra': 'Jules Verne', 'Yo Robot': 'Isaac Asimov', 'The valley of Fear': 'Doyle', 'The Lord of the Rings': 'J R R Tolkien', 'Cañitas': 'Papito Mi Rey Carlos Trejo'}\n"
     ]
    }
   ],
   "source": [
    "d = {\"La vuelta al mundo en 80 dias\" : \"Jules Verne\", \"The Hobbit\" : \"J R R Tolkien\", \"Viaje al Centro de la Tierra\" : \"Jules Verne\", \"Yo Robot\" : \"Isaac Asimov\", \"The valley of Fear\" : \"Doyle\", \"The Lord of the Rings\" : \"Tolkien\"}\n",
    "\n",
    "#a)\n",
    "d[\"The Lord of the Rings\"]=\"J R R Tolkien\"\n",
    "print(d,'\\n')\n",
    "#b)\n",
    "print('Nelson Mandela\\n')\n",
    "#d)\n",
    "del d[\"La vuelta al mundo en 80 dias\"]\n",
    "d['Cañitas']='Carlos Trejo'\n",
    "print(d)"
   ]
  },
  {
   "cell_type": "markdown",
   "metadata": {},
   "source": [
    "**6.** (1P)* Escribe un código en el cual se le solicite al usuario ingresar números REALES, cada vez que se solicite un nuevo número debe realizar la suma total e imprimir el resultado hasta ese momento, **finalmente** tiene que dejar de pedir números cuando la suma total sea mayor a 500, cuando esto ocurra debe imprimir la cantidad excedida de 500."
   ]
  },
  {
   "cell_type": "code",
   "execution_count": 6,
   "metadata": {},
   "outputs": [
    {
     "name": "stdout",
     "output_type": "stream",
     "text": [
      "Ingresa un número real:500\n",
      "Ingresa un número real:1\n",
      "Te excediste por 1\n"
     ]
    }
   ],
   "source": [
    "suma=0\n",
    "while suma <= 500:\n",
    "    suma+=int(input('Ingresa un número real:'))\n",
    "print('Te excediste por {}'.format(suma-500))"
   ]
  },
  {
   "cell_type": "markdown",
   "metadata": {},
   "source": [
    "**7.** *(2P)* Realiza un programa que imprima los primeros 100 números naturales (vamos a considerar que comienzan en 1), pero tienen que sustituirse los múltiplos de 3 por la palabra ”Fizz” y los múltiplos de 5 por ”Buzz”, aquellos que sean multiplos de 3 y de 5 deben imprimir ”FizzBuzz”."
   ]
  },
  {
   "cell_type": "code",
   "execution_count": 7,
   "metadata": {},
   "outputs": [
    {
     "name": "stdout",
     "output_type": "stream",
     "text": [
      "1\n",
      "2\n",
      "Fizz\n",
      "4\n",
      "Buzz\n",
      "Fizz\n",
      "7\n",
      "8\n",
      "Fizz\n",
      "Buzz\n",
      "11\n",
      "Fizz\n",
      "13\n",
      "14\n",
      "FizzBuzz\n",
      "16\n",
      "17\n",
      "Fizz\n",
      "19\n",
      "Buzz\n",
      "Fizz\n",
      "22\n",
      "23\n",
      "Fizz\n",
      "Buzz\n",
      "26\n",
      "Fizz\n",
      "28\n",
      "29\n",
      "FizzBuzz\n",
      "31\n",
      "32\n",
      "Fizz\n",
      "34\n",
      "Buzz\n",
      "Fizz\n",
      "37\n",
      "38\n",
      "Fizz\n",
      "Buzz\n",
      "41\n",
      "Fizz\n",
      "43\n",
      "44\n",
      "FizzBuzz\n",
      "46\n",
      "47\n",
      "Fizz\n",
      "49\n",
      "Buzz\n",
      "Fizz\n",
      "52\n",
      "53\n",
      "Fizz\n",
      "Buzz\n",
      "56\n",
      "Fizz\n",
      "58\n",
      "59\n",
      "FizzBuzz\n",
      "61\n",
      "62\n",
      "Fizz\n",
      "64\n",
      "Buzz\n",
      "Fizz\n",
      "67\n",
      "68\n",
      "Fizz\n",
      "Buzz\n",
      "71\n",
      "Fizz\n",
      "73\n",
      "74\n",
      "FizzBuzz\n",
      "76\n",
      "77\n",
      "Fizz\n",
      "79\n",
      "Buzz\n",
      "Fizz\n",
      "82\n",
      "83\n",
      "Fizz\n",
      "Buzz\n",
      "86\n",
      "Fizz\n",
      "88\n",
      "89\n",
      "FizzBuzz\n",
      "91\n",
      "92\n",
      "Fizz\n",
      "94\n",
      "Buzz\n",
      "Fizz\n",
      "97\n",
      "98\n",
      "Fizz\n",
      "Buzz\n"
     ]
    }
   ],
   "source": [
    "for i in range(1,101):\n",
    "    if i%3==0 and i%5!=0:\n",
    "        print('Fizz')\n",
    "    elif i%5==0 and i%3!=0:\n",
    "        print('Buzz')\n",
    "    elif i%5==0 and i%3==0:\n",
    "        print('FizzBuzz')\n",
    "    else:\n",
    "        print(i)"
   ]
  },
  {
   "cell_type": "markdown",
   "metadata": {},
   "source": [
    "**8.** *(1P)* Investiga como se generan los diccionarios por comprensión, y pon un ejemplo."
   ]
  },
  {
   "cell_type": "code",
   "execution_count": 8,
   "metadata": {},
   "outputs": [
    {
     "name": "stdout",
     "output_type": "stream",
     "text": [
      "2 Josus se balanceaban sobre la tela de una araña, como veían que resistían fueron a llamar a otro Josu \n",
      "\n",
      "3 Josus se balanceaban sobre la tela de una araña, como veían que resistían fueron a llamar a otro Josu \n",
      "\n",
      "4 Josus se balanceaban sobre la tela de una araña, como veían que resistían fueron a llamar a otro Josu \n",
      "\n",
      "5 Josus se balanceaban sobre la tela de una araña, como veían que resistían fueron a llamar a otro Josu \n",
      "\n",
      "6 Josus se balanceaban sobre la tela de una araña, como veían que resistían fueron a llamar a otro Josu \n",
      "\n",
      "7 Josus se balanceaban sobre la tela de una araña, como veían que resistían fueron a llamar a otro Josu \n",
      "\n",
      "8 Josus se balanceaban sobre la tela de una araña, como veían que resistían fueron a llamar a otro Josu \n",
      "\n",
      "9 Josus se balanceaban sobre la tela de una araña, como veían que resistían fueron a llamar a otro Josu \n",
      "\n",
      "10 Josus se balanceaban sobre la tela de una araña, como veían que resistían fueron a llamar a otro Josu \n",
      "\n",
      "11 Josus se balanceaban sobre la tela de una araña, como veían que resistían fueron a llamar a otro Josu \n",
      "\n",
      "12 Josus se balanceaban sobre la tela de una araña, como veían que resistían fueron a llamar a otro Josu \n",
      "\n",
      "13 Josus se balanceaban sobre la tela de una araña, como veían que resistían fueron a llamar a otro Josu \n",
      "\n",
      "14 Josus se balanceaban sobre la tela de una araña, como veían que resistían fueron a llamar a otro Josu \n",
      "\n"
     ]
    }
   ],
   "source": [
    "diccCompr=dict((x, str(x)+' Josus se balanceaban sobre la tela de una araña, como veían que resistían fueron a llamar a otro Josu') for x in range(2,15,1))\n",
    "for i in diccCompr.keys():\n",
    "    print(diccCompr[i],'\\n')"
   ]
  },
  {
   "cell_type": "markdown",
   "metadata": {},
   "source": [
    "**PUNTO EXTRA EN SIGUIENTE KAHOOT (OPCIONAL)**\n",
    "\n",
    "Crea un programa que simule una calculadora sencilla con las operaciones: \n",
    "* SUMA\n",
    "* RESTA\n",
    "* MULTIPLICACIÓN\n",
    "* DIVISIÓN\n",
    "* POTENCIA\n",
    "* VALOR ABSOLUTO\n",
    "* RAÍZ CUADRADA (solo para reales positivos)\n",
    "\n",
    "Debe contener un menú que le solicite al usuario la operación que quiere efectuar (seleccionadola del menú), así como una opción para salir del programa. Se le tiene que solicitar al usuario el primer número a operar, y, posteriormente un segundo número (en el caso de la potencia, el segundo número correspondera a la potencia a la que se elevará el primer número, para el caso de valor absoluto y raiz cuadrada, sólo se tiene que pedir un valor).\n",
    "\n",
    "El resultado de la operación debe mostrarse en pantalla y posteriormente mostrar el Menú Principal. Deberás tomar en cuenta la mayor cantidad de consideraciones que podrían ocurrir al utilizar la calculadora.\n",
    "\n",
    "**NOTA 1**: No puedes hacer uso de *NINGUNA* función.\n",
    "\n",
    "**NOTA 2**: La **ÚNICA** manera de salir del programa, es eligiendo la opción de SALIR en el Menú Principal.\n",
    "\n",
    "**NOTA 3**: Habrá un punto extra más para la persona que entregue la mejor calculadora, es decir, aquella que no \"muera\" o falle, buscaremos todas las maneras posibles para *terminar* con la ejecuación del programa. \n"
   ]
  },
  {
   "cell_type": "code",
   "execution_count": 9,
   "metadata": {},
   "outputs": [
    {
     "name": "stdout",
     "output_type": "stream",
     "text": [
      "Ahorita no joven 3:\n"
     ]
    }
   ],
   "source": [
    "print('Ahorita no joven 3:')"
   ]
  }
 ],
 "metadata": {
  "kernelspec": {
   "display_name": "Python 3",
   "language": "python",
   "name": "python3"
  },
  "language_info": {
   "codemirror_mode": {
    "name": "ipython",
    "version": 3
   },
   "file_extension": ".py",
   "mimetype": "text/x-python",
   "name": "python",
   "nbconvert_exporter": "python",
   "pygments_lexer": "ipython3",
   "version": "3.7.6"
  }
 },
 "nbformat": 4,
 "nbformat_minor": 4
}
