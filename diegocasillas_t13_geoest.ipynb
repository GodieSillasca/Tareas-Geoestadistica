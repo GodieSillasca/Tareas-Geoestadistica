{
 "cells": [
  {
   "cell_type": "markdown",
   "metadata": {},
   "source": [
    "### Geoestadística\n",
    "### Tarea 13\n",
    "### 9 de noviembre de 2020\n",
    "### Casillas Muñoz, Diego Armando"
   ]
  },
  {
   "cell_type": "markdown",
   "metadata": {},
   "source": [
    "---\n",
    "### INSTRUCCIONES"
   ]
  },
  {
   "cell_type": "markdown",
   "metadata": {},
   "source": [
    "Contesta en el bloque correspondiente cada una de las siguientes preguntas, tendrás que entregar dos documentos, el primero es este Jupyter Notebook contestado (recomiendo el que cuando estes seguro de que esta completa tu tarea, en *Kernel* seleccionar **Restart & Run All**, así mismo, entrega el PDF de este Jupyter Notebook, yendote a *File* y seleccionando *Download as* -> PDF via LaTex (.pdf). \n",
    "\n",
    "\n",
    "**OJO** los usuarios Windows sólo tienen que instalar lo que se les solicite (aparecerá una ventana emergente). Mientras que los usuarios Linux y MacOS tendrán que instalar Tex por aparte, creo que esto les puede ayudar <!-- [Text](link) -->\n",
    "[Installing TeX](https://nbconvert.readthedocs.io/en/latest/install.html#installing-tex \"Installing TeX\").   \n",
    "\n",
    "La nomenclatura de los dos archivos a entregar es, ejemplo:\n",
    "> **dariosolano_t14_geoest.ipynb/pdf**\n",
    "---"
   ]
  },
  {
   "cell_type": "markdown",
   "metadata": {},
   "source": [
    "**1.** ¿Qué tipo de dato arrojan las siguientes operaciones?, ¿qué puedes observar de las salidas?\n",
    "\n",
    "        a) 8 / 2\n",
    "        b) 6 * 7.0\n",
    "        c) 6 * 7\n",
    "        d) 10 + 268\n",
    "        e) 10 + 268.1"
   ]
  },
  {
   "cell_type": "code",
   "execution_count": 1,
   "metadata": {},
   "outputs": [
    {
     "name": "stdout",
     "output_type": "stream",
     "text": [
      "8/2 da como resultado un dato de tipo: <class 'float'>\n",
      "6*7.0 da como resultado un dato de tipo: <class 'float'>\n",
      "6*7 da como resultado un dato de tipo: <class 'int'>\n",
      "10+268 da como resultado un dato de tipo: <class 'int'>\n",
      "10+268.1 da como resultado un dato de tipo: <class 'float'>\n"
     ]
    }
   ],
   "source": [
    "print(f'8/2 da como resultado un dato de tipo: {type(8/2)}')\n",
    "print(f'6*7.0 da como resultado un dato de tipo: {type(6*7.0)}')\n",
    "print(f'6*7 da como resultado un dato de tipo: {type(6*7)}')\n",
    "print(f'10+268 da como resultado un dato de tipo: {type(10+268)}')\n",
    "print(f'10+268.1 da como resultado un dato de tipo: {type(10+268.1)}')"
   ]
  },
  {
   "cell_type": "markdown",
   "metadata": {},
   "source": [
    "Puede observarse que Python asigna automáticamente el tipo de dato. Las divisiones dan como resultado un número flotante. Las multiplicaciones entre enteros dan un entero como resultado. Basta con añadir un punto decimal a los números empleados para que Python los considere como un número flotante. La multiplicación y suma entre un entero y un flotante da como resultado un flotante."
   ]
  },
  {
   "cell_type": "markdown",
   "metadata": {},
   "source": [
    "**2.** ¿Cuáles son los operadores o funciones para redondear y obtener el valor absoluto, pon dos ejemplos de cada operador o funcion?"
   ]
  },
  {
   "cell_type": "markdown",
   "metadata": {},
   "source": [
    "Para redondear se usa la función **round()** y para obtener el valor absoluto se usa la función **abs()**."
   ]
  },
  {
   "cell_type": "code",
   "execution_count": 2,
   "metadata": {},
   "outputs": [
    {
     "name": "stdout",
     "output_type": "stream",
     "text": [
      "10/3 sin redondeo: 3.3333333333333335\n",
      "10/3 con redondeo: 3\n",
      "\n",
      "-5 sin valor absoluto: -5\n",
      "-5 con valor absoluto: 5\n"
     ]
    }
   ],
   "source": [
    "print(f'10/3 sin redondeo: {10/3}\\n10/3 con redondeo: {round(10/3)}\\n')\n",
    "print(f'-5 sin valor absoluto: {-5}\\n-5 con valor absoluto: {abs(-5)}')"
   ]
  },
  {
   "cell_type": "markdown",
   "metadata": {},
   "source": [
    "**3.** ¿Cuál es él resultado de el siguiente código?, ¿Qué tipo de dato arroja?\n",
    "\n",
    "```python\n",
    "vara=7 %(5//2)\n",
    "varb=7//(5 %2)\n",
    "varc =8//(8∗(11.5 %5.3) )\n",
    "```"
   ]
  },
  {
   "cell_type": "code",
   "execution_count": 3,
   "metadata": {},
   "outputs": [
    {
     "name": "stdout",
     "output_type": "stream",
     "text": [
      "vara: 1, tipo: <class 'int'>\n",
      "varb: 7, tipo: <class 'int'>\n",
      "varc: 1.0, tipo: <class 'float'>\n"
     ]
    }
   ],
   "source": [
    "vara=7 %(5//2)\n",
    "varb=7//(5 %2)\n",
    "varc =8//(8*(11.5 %5.3) )\n",
    "print(f'vara: {vara}, tipo: {type(vara)}\\nvarb: {varb}, tipo: {type(varb)}\\nvarc: {varc}, tipo: {type(varc)}')"
   ]
  },
  {
   "cell_type": "markdown",
   "metadata": {},
   "source": [
    "**4.** Sin realizar la importación de ningun módulo o libreria, es decir usando únicamente operadores numéricos, obten las raíces de las siguientes ecuaciones. También indica qué tipo de dato arrojan.\n",
    "\n",
    "a)  $x^2 + 6x + 7 = 0$   \n",
    "b)  $4x^2 - 4 = 0$\n"
   ]
  },
  {
   "cell_type": "code",
   "execution_count": 4,
   "metadata": {},
   "outputs": [],
   "source": [
    "#Función para obtener las raíces de ecuaciones cuadráticas\n",
    "def raices(a,b,c):\n",
    "    raiz1=(-b+(b**2-(4*a*c))**.5)/(2*a)\n",
    "    raiz2=(-b-(b**2-(4*a*c))**.5)/(2*a)\n",
    "    return (raiz1,raiz2)"
   ]
  },
  {
   "cell_type": "code",
   "execution_count": 5,
   "metadata": {},
   "outputs": [
    {
     "name": "stdout",
     "output_type": "stream",
     "text": [
      "Raíces de la ecuación a): -1.5858 y -4.4142\n",
      "Raíces de la ecuación b): 1.0 y -1.0\n"
     ]
    }
   ],
   "source": [
    "resultadoA=raices(1,6,7)\n",
    "print(f'Raíces de la ecuación a): {round(resultadoA[0],4)} y {round(resultadoA[1],4)}')\n",
    "resultadoB=raices(4,0,-4)\n",
    "print(f'Raíces de la ecuación b): {round(resultadoB[0],4)} y {round(resultadoB[1],4)}')"
   ]
  },
  {
   "cell_type": "markdown",
   "metadata": {},
   "source": [
    "**5.** ¿Qué función te permite conocer el tipo de una variable?"
   ]
  },
  {
   "cell_type": "markdown",
   "metadata": {},
   "source": [
    "La función **type()**"
   ]
  },
  {
   "cell_type": "markdown",
   "metadata": {},
   "source": [
    "**6.** Utiliza la función de la pregunta anterior, y responde de que tipo son las siguientes variables.\n",
    "\n",
    "```python\n",
    "aa = 1/9\n",
    "bb = 8+7j\n",
    "cc = {'Abril':3, 'Mayo':5}\n",
    "dd = 'Gea: Diosa de la tierra'\n",
    "ee = ['Geología', 'Geofísica', 'Minas']\n",
    "ff = [3, 5.5, 26-5j, ('Hola', 'Mundo')]\n",
    "gg = ('Ingeniería', 'Química', 'Arquitectura')\n",
    "```"
   ]
  },
  {
   "cell_type": "code",
   "execution_count": 6,
   "metadata": {},
   "outputs": [
    {
     "name": "stdout",
     "output_type": "stream",
     "text": [
      "Tipo de aa: <class 'float'>\n",
      "Tipo de bb: <class 'complex'>\n",
      "Tipo de cc: <class 'dict'>\n",
      "Tipo de dd: <class 'str'>\n",
      "Tipo de ee: <class 'list'>\n",
      "Tipo de ff: <class 'list'>\n",
      "Tipo de gg: <class 'tuple'>\n"
     ]
    }
   ],
   "source": [
    "aa = 1/9\n",
    "bb = 8+7j\n",
    "cc = {'Abril':3, 'Mayo':5}\n",
    "dd = 'Gea: Diosa de la tierra'\n",
    "ee = ['Geología', 'Geofísica', 'Minas']\n",
    "ff = [3, 5.5, 26-5j, ('Hola', 'Mundo')]\n",
    "gg = ('Ingeniería', 'Química', 'Arquitectura')\n",
    "print(f'Tipo de aa: {type(aa)}')\n",
    "print(f'Tipo de bb: {type(bb)}')\n",
    "print(f'Tipo de cc: {type(cc)}')\n",
    "print(f'Tipo de dd: {type(dd)}')\n",
    "print(f'Tipo de ee: {type(ee)}')\n",
    "print(f'Tipo de ff: {type(ff)}')\n",
    "print(f'Tipo de gg: {type(gg)}')"
   ]
  },
  {
   "cell_type": "markdown",
   "metadata": {},
   "source": [
    "**7.** ¿A que se le conoce como *CASTEO*?, ¿Cómo se realiza la conversión de datos en Python?, ejecuta el siguiente código:\n",
    "\n",
    "```python\n",
    "num1 = \"34.0\"\n",
    "num2 = 58.36\n",
    "num3 = 12.0\n",
    "opera = (num1*num2)/num3\n",
    "```\n",
    "¿Qué error arroja?"
   ]
  },
  {
   "cell_type": "markdown",
   "metadata": {},
   "source": [
    "El casteo es convertir de un tipo de dato a otro. Esta conversión se realiza especificando el tipo de dato al que queremos convertir un dato mediante las funciones constructoras de cada tipo de objeto, o clase, pues Python es un lenguaje de programación donde todo es un objeto y pertenece a una clase.\n",
    "El error que arroja el código se debe a que no es posible realizar la operación **opera** entre números y cadenas de caracteres."
   ]
  },
  {
   "cell_type": "markdown",
   "metadata": {},
   "source": [
    "**8.** Utilizando las variables de la pregunta anterior, obten los siguientes resultados:\n",
    "\n",
    "```python\n",
    "a) respu1 = '34.034.034.034.0’\n",
    "b) res2 = '12121212'\n",
    "c) opera = 165.35333\n",
    "d) El resultado de la operacion\n",
    "```\n",
    "$\\,\\,\\,\\,\\,\\,\\,\\,\\,\\,\\,\\,\\,\\,\\,\\,\\,\\,\\,\\,\\,\\,\\,\\sqrt{num1+num3-num2}$"
   ]
  },
  {
   "cell_type": "code",
   "execution_count": 7,
   "metadata": {},
   "outputs": [
    {
     "name": "stdout",
     "output_type": "stream",
     "text": [
      "respu1 = 34.034.034.034.0\n",
      "res2 = 12121212\n",
      "opera = 165.35333\n",
      "incisod = (2.152732618888175e-16+3.515679166249389j)\n"
     ]
    }
   ],
   "source": [
    "num1 = \"34.0\"\n",
    "num2 = 58.36\n",
    "num3 = 12.0\n",
    "\n",
    "respu1=num1*4\n",
    "res2=str(int(num3))*4\n",
    "opera=round(((float(num1)*num2)/num3),5)\n",
    "incisod=((float(num1)+num3-num2)**.5)\n",
    "print(f'respu1 = {respu1}\\nres2 = {res2}\\nopera = {opera}\\nincisod = {incisod}')"
   ]
  },
  {
   "cell_type": "markdown",
   "metadata": {},
   "source": [
    "**9.** Solicitale al usuario que te salude y que ingrese su fecha de nacimiento, posteriormente devuelve el saludo y contestale cuando cumples años tu."
   ]
  },
  {
   "cell_type": "code",
   "execution_count": 8,
   "metadata": {},
   "outputs": [
    {
     "name": "stdout",
     "output_type": "stream",
     "text": [
      "Salúdame prro... y escribe tu fecha de nacimiento:ola, nací el 27 de enero del 96\n",
      "Hola para tí también, yo cumplo años el 27 de enero\n"
     ]
    }
   ],
   "source": [
    "input('Salúdame prro... y escribe tu fecha de nacimiento:')\n",
    "print('Hola para tí también, yo cumplo años el 27 de enero')"
   ]
  },
  {
   "cell_type": "markdown",
   "metadata": {},
   "source": [
    "**10.** Sean las listas:\n",
    "\n",
    "```python\n",
    "x = [4,24,67,2,9,26,10,83,2,6]\n",
    "y = ['Kyle','Isaías','Omar','Laura','Bertha','René','Edouard','Cristóbal','Fay',\n",
    "     'Dolly','Nana','Vicky','Sally','Wilfred','Arthur','Gonzalo','Hanna','Paulette','Teddy','Marco','Josephine']\n",
    "```\n",
    "Realiza lo siguiente:\n",
    "* Ordena de menor a mayor la lista **x**\n",
    "* Ordena de mayor a menor la lista **x**\n",
    "* Ordena alfabéticamente (A-Z) la lista **y**\n",
    "* Ordena de la Z a la A la lista **y**\n",
    "* ¿Cuál es la 4ta potencia de la suma de total de los elementos de lista **x** y **y**?\n",
    "* Genera un nueva lista llamada **z** que contenga los primeros 5 elementos de y así cómo los último 5 elementos de la misma lista.\n"
   ]
  },
  {
   "cell_type": "code",
   "execution_count": 9,
   "metadata": {},
   "outputs": [],
   "source": [
    "x = [4,24,67,2,9,26,10,83,2,6]\n",
    "y = ['Kyle','Isaías','Omar','Laura','Bertha','René','Edouard','Cristóbal','Fay',\n",
    "     'Dolly','Nana','Vicky','Sally','Wilfred','Arthur','Gonzalo','Hanna','Paulette','Teddy','Marco','Josephine']"
   ]
  },
  {
   "cell_type": "code",
   "execution_count": 10,
   "metadata": {},
   "outputs": [
    {
     "name": "stdout",
     "output_type": "stream",
     "text": [
      "Ordena de menor a mayor la lista x\n",
      "[2, 2, 4, 6, 9, 10, 24, 26, 67, 83]\n",
      "Ordena de mayor a menor la lista x\n",
      "[83, 67, 26, 24, 10, 9, 6, 4, 2, 2]\n",
      "Ordena alfabéticamente (A-Z) la lista y\n",
      "['Arthur', 'Bertha', 'Cristóbal', 'Dolly', 'Edouard', 'Fay', 'Gonzalo', 'Hanna', 'Isaías', 'Josephine', 'Kyle', 'Laura', 'Marco', 'Nana', 'Omar', 'Paulette', 'René', 'Sally', 'Teddy', 'Vicky', 'Wilfred']\n",
      "Ordena de la Z a la A la lista y\n",
      "['Wilfred', 'Vicky', 'Teddy', 'Sally', 'René', 'Paulette', 'Omar', 'Nana', 'Marco', 'Laura', 'Kyle', 'Josephine', 'Isaías', 'Hanna', 'Gonzalo', 'Fay', 'Edouard', 'Dolly', 'Cristóbal', 'Bertha', 'Arthur']\n",
      "¿Cuál es la 4ta potencia de la suma de total de los elementos de lista x?\n",
      "2947295521\n",
      "Genera un nueva lista llamada **z** que contenga los primeros 5 elementos de y así cómo los último 5 elementos de la misma lista.\n",
      "['Wilfred', 'Vicky', 'Teddy', 'Sally', 'René', 'Arthur', 'Bertha', 'Cristóbal', 'Dolly', 'Edouard']\n"
     ]
    }
   ],
   "source": [
    "print('Ordena de menor a mayor la lista x')\n",
    "x.sort()\n",
    "print(x)\n",
    "print('Ordena de mayor a menor la lista x')\n",
    "x.sort(reverse=True)\n",
    "print(x)\n",
    "print('Ordena alfabéticamente (A-Z) la lista y')\n",
    "y.sort()\n",
    "print(y)\n",
    "print('Ordena de la Z a la A la lista y')\n",
    "y.sort(reverse=True)\n",
    "print(y)\n",
    "print('¿Cuál es la 4ta potencia de la suma de total de los elementos de lista x?')\n",
    "print(str((sum(x))**4))\n",
    "print('Genera un nueva lista llamada **z** que contenga los primeros 5 elementos de y así cómo los último 5 elementos de la misma lista.')\n",
    "z=[y[i] for i in (list(range(5))+list(range(-1,-6,-1)))]\n",
    "print(z)"
   ]
  }
 ],
 "metadata": {
  "kernelspec": {
   "display_name": "Python 3",
   "language": "python",
   "name": "python3"
  },
  "language_info": {
   "codemirror_mode": {
    "name": "ipython",
    "version": 3
   },
   "file_extension": ".py",
   "mimetype": "text/x-python",
   "name": "python",
   "nbconvert_exporter": "python",
   "pygments_lexer": "ipython3",
   "version": "3.7.6"
  }
 },
 "nbformat": 4,
 "nbformat_minor": 4
}
