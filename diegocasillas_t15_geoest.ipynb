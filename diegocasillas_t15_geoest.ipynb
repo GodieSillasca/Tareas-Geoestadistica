{
 "cells": [
  {
   "cell_type": "markdown",
   "metadata": {},
   "source": [
    "### Geoestadística\n",
    "### Tarea 15\n",
    "### 18 de noviembre de 2020\n",
    "### Diego Armando Casillas Muñoz"
   ]
  },
  {
   "cell_type": "markdown",
   "metadata": {},
   "source": [
    "---\n",
    "### INSTRUCCIONES"
   ]
  },
  {
   "cell_type": "markdown",
   "metadata": {},
   "source": [
    "Contesta en el bloque correspondiente cada una de las siguientes preguntas, tendrás que entregar dos documentos, el primero es este Jupyter Notebook contestado (recomiendo el que cuando estes seguro de que esta completa tu tarea, en *Kernel* seleccionar **Restart & Run All**, así mismo, entrega el PDF de este Jupyter Notebook, yendote a *File* y seleccionando *Download as* -> PDF via LaTex (.pdf). \n",
    "\n",
    "**NOTA GENERAL**: Códigos repetidos, o que se encuentre fueron copiados tal cual de Internet, serán **penalizados**.\n",
    "\n",
    "La nomenclatura de los dos archivos a entregar es, ejemplo:\n",
    "> **dariosolano_t15_geoest.ipynb/pdf**\n",
    "---"
   ]
  },
  {
   "cell_type": "markdown",
   "metadata": {},
   "source": [
    "**1.** *(1P)* Crear una lista (usando los conceptos de listas por comprensión) de los números pares que son elementos de otra lista (también creada como lista por comprension) cuyos elementos son las potencias de 2 de los primeros 11 números enteros positivos.\n",
    "\n",
    "**NOTA 1**: El 0 en este ejercicio se considera como entero positivo.\n",
    "\n",
    "**NOTA 2**: Para obtener el puntaje completo del ejercicio, debe resolverse con una lista por comprensión. Recuerda que puedes anidar listas por comprensión."
   ]
  },
  {
   "cell_type": "code",
   "execution_count": 1,
   "metadata": {},
   "outputs": [
    {
     "data": {
      "text/plain": [
       "[0, 4, 16, 36, 64, 100]"
      ]
     },
     "execution_count": 1,
     "metadata": {},
     "output_type": "execute_result"
    }
   ],
   "source": [
    "lista=[i for i in [j**2 for j in (range(12))] if i%2==0]\n",
    "lista"
   ]
  },
  {
   "cell_type": "markdown",
   "metadata": {},
   "source": [
    "**2.** *(2P)* **GENERA** un arreglo de números enteros llamado **ARRE1** de dimensión 8 X 3 que estén dentro del **rango** (50,99), la diferencia entre un valor y otro debe ser de 2, ejemplo:\n",
    "\n",
    "```python\n",
    "[[50, 52, 56]\n",
    "[58, 60, 62]\n",
    "...\n",
    "...\n",
    "[  ,   ,  ]],\n",
    "```\n",
    "\n",
    "después divide **ARRE1** en 4 subarreglos de igual dimension y tamaño e imprimelos en pantalla, los nombres de estos arreglos deben ser respectivamente: \n",
    "* ARRE2 \n",
    "* ARRE3\n",
    "* ARRE4 \n",
    "* ARRE5"
   ]
  },
  {
   "cell_type": "code",
   "execution_count": 2,
   "metadata": {},
   "outputs": [
    {
     "name": "stdout",
     "output_type": "stream",
     "text": [
      "ARRE2:\n",
      " [[50 52 54]\n",
      " [56 58 60]]\n",
      "ARRE3:\n",
      " [[62 64 66]\n",
      " [68 70 72]]\n",
      "ARRE4:\n",
      " [[74 76 78]\n",
      " [80 82 84]]\n",
      "ARRE5:\n",
      " [[86 88 90]\n",
      " [92 94 96]]\n"
     ]
    }
   ],
   "source": [
    "import numpy as np\n",
    "ARRE1=np.arange(50,98,2).reshape((8, 3))\n",
    "ARRE2=ARRE1[0:2]\n",
    "ARRE3=ARRE1[2:4]\n",
    "ARRE4=ARRE1[4:6]\n",
    "ARRE5=ARRE1[6:]\n",
    "print('ARRE2:\\n',ARRE2)\n",
    "print('ARRE3:\\n',ARRE3)\n",
    "print('ARRE4:\\n',ARRE4)\n",
    "print('ARRE5:\\n',ARRE5)"
   ]
  },
  {
   "cell_type": "markdown",
   "metadata": {},
   "source": [
    "**3.** *(2P)* **GENERA** aleatoriamente un arreglo de números enteros entre 0 y 2020 de dimension 6 X 6, e imprime lo siguiente:\n",
    "* Los valores **máximos** de cada **columna** (eje 0) y la SUMA total de estos.\n",
    "* Los valores **mínimos** de cada **columna** (eje 0) y la MULTIPLICACIÓN total de estos.\n",
    "* Los valores **máximos** de cada **fila** (eje 1) y la MULTIPLICACIÓN total de estos.\n",
    "* Los valores **mínimos** de cada **fila** (eje 1) y la SUMA total de estos."
   ]
  },
  {
   "cell_type": "code",
   "execution_count": 3,
   "metadata": {},
   "outputs": [
    {
     "name": "stdout",
     "output_type": "stream",
     "text": [
      "[ 948 1864 1655  524  137  380]\n",
      "[1491 1658  806  443  837  410]\n",
      "[1827  423 1024 1925 1018  696]\n",
      "[ 669  445 1024 1027  525  265]\n",
      "[ 680  482 1427  993  632  949]\n",
      "[1341 1579  854  510  864  333]\n"
     ]
    }
   ],
   "source": [
    "arregloChido=np.random.randint(2021, size=(6, 6))\n",
    "for i in arregloChido:\n",
    "    print(i)"
   ]
  },
  {
   "cell_type": "code",
   "execution_count": 4,
   "metadata": {},
   "outputs": [],
   "source": [
    "#Haciendo una copia de flotantes de 64 bits para  evitar errores de cálculo\n",
    "arregloChido2=np.zeros(shape=(6,6))\n",
    "for i in range(len(arregloChido)):\n",
    "    for j in range(len(arregloChido[i])):\n",
    "        arregloChido2[i][j]=np.float64(arregloChido[i][j])\n",
    "        #print(type(arregloChido2[i][j]))"
   ]
  },
  {
   "cell_type": "code",
   "execution_count": 5,
   "metadata": {},
   "outputs": [
    {
     "name": "stdout",
     "output_type": "stream",
     "text": [
      "Máximo de la columna 1:1827.0\n",
      "Máximo de la columna 2:1864.0\n",
      "Máximo de la columna 3:1655.0\n",
      "Máximo de la columna 4:1925.0\n",
      "Máximo de la columna 5:1018.0\n",
      "Máximo de la columna 6:949.0\n",
      "Suma de los máximos por columna: 9238.0\n",
      "Mínimo de la columna 1:669.0\n",
      "Mínimo de la columna 2:423.0\n",
      "Mínimo de la columna 3:806.0\n",
      "Mínimo de la columna 4:443.0\n",
      "Mínimo de la columna 5:137.0\n",
      "Mínimo de la columna 6:265.0\n",
      "Multiplicación de los mínimos por columna: 3668357846391030.0\n",
      "Máximo de la fila 1:1864.0\n",
      "Máximo de la fila 2:1658.0\n",
      "Máximo de la fila 3:1925.0\n",
      "Máximo de la fila 4:1027.0\n",
      "Máximo de la fila 5:1427.0\n",
      "Máximo de la fila 6:1579.0\n",
      "Multiplicación de los máximos por fila: 1.376694935611956e+19\n",
      "Mínimo de la fila 1:137.0\n",
      "Mínimo de la fila 2:410.0\n",
      "Mínimo de la fila 3:423.0\n",
      "Mínimo de la fila 4:265.0\n",
      "Mínimo de la fila 5:482.0\n",
      "Mínimo de la fila 6:333.0\n",
      "Suma de los mínimos por fila: 2050.0\n"
     ]
    }
   ],
   "source": [
    "maximos=[]\n",
    "for i in range(6):\n",
    "    print(f'Máximo de la columna {i+1}:{max([j for j in [arregloChido2[k][i] for k in range(6)]])}')\n",
    "    maximos.append(max([j for j in [arregloChido2[k][i] for k in range(6)]]))\n",
    "print(f'Suma de los máximos por columna: {sum(maximos)}')\n",
    "\n",
    "def multiplicacion(x):\n",
    "    mult=1\n",
    "    for i in range(len(x)):\n",
    "        mult*=x[i]\n",
    "    return mult\n",
    "\n",
    "minimos=[]\n",
    "for i in range(6):\n",
    "    print(f'Mínimo de la columna {i+1}:{min([j for j in [arregloChido2[k][i] for k in range(6)]])}')\n",
    "    minimos.append(min([j for j in [arregloChido2[k][i] for k in range(6)]]))\n",
    "print(f'Multiplicación de los mínimos por columna: {multiplicacion(minimos)}')\n",
    "\n",
    "maximos=[]\n",
    "for i in range(6):\n",
    "    print(f'Máximo de la fila {i+1}:{max([j for j in [arregloChido2[i][k] for k in range(6)]])}')\n",
    "    maximos.append(max([j for j in [arregloChido2[i][k] for k in range(6)]]))\n",
    "print(f'Multiplicación de los máximos por fila: {multiplicacion(maximos)}')\n",
    "\n",
    "minimos=[]\n",
    "for i in range(6):\n",
    "    print(f'Mínimo de la fila {i+1}:{min([j for j in [arregloChido2[i][k] for k in range(6)]])}')\n",
    "    minimos.append(min([j for j in [arregloChido2[i][k] for k in range(6)]]))\n",
    "print(f'Suma de los mínimos por fila: {sum(minimos)}')"
   ]
  },
  {
   "cell_type": "markdown",
   "metadata": {},
   "source": [
    "**4.** *(2P)* Sea el dominio $x$ ${\\epsilon}$ [-20, 20] y sea la función:\n",
    "\n",
    "$$f(x)=\\frac{sen(x)}{x}$$\n",
    "    \n",
    "En una sola figura y utlizando el método subplot genera la gráfica donde:\n",
    "* **f(x)** sea de color rojo, con línea sólida y un ancho de línea igual a 4.\n",
    "* **f(x)** sea del color de tu fecha de nacimiento (En sistema decimal sería DDMMAA y tienes que transformarlo a código hexadecimal), con línea de guiones y puntos y los puntos de control deben ser hexágonos de color 2020 (transforma 2020 en sistema decimal a hexadecimal).\n",
    "* **f(x)** sea de color naranja, con linea punteada.\n",
    "* **f(x)** sea de color rosa, con línea de guiones y los puntos de control deben ser cuadrados amarillos."
   ]
  },
  {
   "cell_type": "code",
   "execution_count": 6,
   "metadata": {},
   "outputs": [],
   "source": [
    "import matplotlib.pyplot as plt"
   ]
  },
  {
   "cell_type": "code",
   "execution_count": 7,
   "metadata": {
    "scrolled": true
   },
   "outputs": [
    {
     "data": {
      "text/plain": [
       "[<matplotlib.lines.Line2D at 0x7fce10a09610>]"
      ]
     },
     "execution_count": 7,
     "metadata": {},
     "output_type": "execute_result"
    },
    {
     "data": {
      "image/png": "[encoded data removed]",
      "text/plain": [
       "<Figure size 432x288 with 4 Axes>"
      ]
     },
     "metadata": {
      "needs_background": "light"
     },
     "output_type": "display_data"
    }
   ],
   "source": [
    "x = np.linspace(-20,20,100)\n",
    "y = np.sin(x)/x\n",
    "\n",
    "plt.subplot(2,2,1) \n",
    "plt.plot(x,y,'-r', linewidth=4) \n",
    "plt.subplot(2,2,2)\n",
    "integer=270196\n",
    "integer2=2020\n",
    "#https://stackoverflow.com/questions/40123901/python-integer-to-hex-string-with-padding\n",
    "color_nac=integer.to_bytes(((integer.bit_length() + 7) // 8),\"big\").hex()\n",
    "color_mar=integer2.to_bytes(((integer2.bit_length() + 7) // 8),\"big\").hex()\n",
    "plt.plot(x,y,color='#'+color_nac,linestyle='-.',marker='H'\n",
    "         ,mec='#00'+color_mar,mfc='#00'+color_mar,ms=5)\n",
    "plt.subplot(2,2,3) \n",
    "plt.plot(x,y,'.',color='#ffa500') \n",
    "plt.subplot(2,2,4) \n",
    "plt.plot(x,y,'--',color='#ffc0cb',marker='s'\n",
    "         ,mec='y',mfc='y',ms=4,linewidth=3) "
   ]
  },
  {
   "cell_type": "markdown",
   "metadata": {},
   "source": [
    "**5.** *(1P)* Genera una gráfica donde muestres a la función **g(x)** de color azul marino:\n",
    "\n",
    "$$(x)=sen(2x-3)$$\n",
    "\n",
    "donde el dominio $x$ sea, $x$ $\\epsilon$ $[-20, 20]$, y en la misma gráfica se muestre tambien a la función $f(x)$ del inciso anterior, del color y con el tipo de linea que decidas.\n",
    "\n",
    "**NOTA**: No olvides poner la leyenda indicando que gráfica le correspode a cada función. Ponerle un título, el nombre a sus ejes, etc. Haz que se vea profesional."
   ]
  },
  {
   "cell_type": "code",
   "execution_count": 8,
   "metadata": {},
   "outputs": [
    {
     "data": {
      "text/plain": [
       "<matplotlib.legend.Legend at 0x7fce117d5250>"
      ]
     },
     "execution_count": 8,
     "metadata": {},
     "output_type": "execute_result"
    },
    {
     "data": {
      "image/png": "[encoded data removed]",
      "text/plain": [
       "<Figure size 432x288 with 1 Axes>"
      ]
     },
     "metadata": {
      "needs_background": "light"
     },
     "output_type": "display_data"
    }
   ],
   "source": [
    "x2= np.linspace(-20,20,100)\n",
    "y2 = np.sin((2*x)-3)\n",
    "plt.plot(x,y,'#000080',x2,y2,'y')\n",
    "plt.title('Ejercicio 5')\n",
    "plt.ylabel('f(x)')\n",
    "plt.xlabel('x')\n",
    "plt.legend( ('sin(x)/x', 'sin(2x-3)'), loc = 'best')"
   ]
  },
  {
   "cell_type": "markdown",
   "metadata": {},
   "source": [
    "**6.** *(2P)* Elabora un programa que simule el clásico juego de **\"PIEDRA, PAPEL O TIJERAS\"**, donde se le pida al usuario su nombre y también se le pida elegir entre las siguientes opciones:\n",
    "\n",
    "    a. PIEDRA\n",
    "    b. PAPEL\n",
    "    c. TIJERA\n",
    "\n",
    "La computadora internamente deberá elegir alguna de dichas opciones, para que después de esto, se muestre  en pantalla cuál fue la elección que tomo la computadora y se declare al **GANADOR** y **PERDEDOR** de la partida, ejemplo:\n",
    "\n",
    "```python\n",
    "DARIO eligio PAPEL        \n",
    "La Compu eligió TIJERAS\n",
    "TIJERAS gana a PAPEL\n",
    "DARIO PIERDE y Compu GANA :(\n",
    "```\n",
    "Cada que termine una partida, se debe preguntar si se quiere jugar una vez más, la única manera de salir debe ser que el usuario decida no seguir jugando más.\n",
    "\n",
    "**NOTA**: La elección realizada por la computadora debe ser aleatoria."
   ]
  },
  {
   "cell_type": "code",
   "execution_count": 9,
   "metadata": {
    "scrolled": true
   },
   "outputs": [
    {
     "name": "stdout",
     "output_type": "stream",
     "text": [
      "Bienvenido al juego de Piedra, Papel o Tijeras\n",
      "Escribe todas tus respuestas en minúsculas (\"a\", \"b\" o \"c\"):\n",
      " a)PIEDRA, b)PAPEL o c)TIJERAS\n",
      "¿Qué eliges, \"a\", \"b\" o \"c\"?: a\n",
      "Usuario eligió PIEDRA\n",
      "Computadora eligió TIJERAS\n",
      "Piedra gana a tijeras: gana el usuario :3\n",
      "¿Quieres continuar (escribe 0 si no, cualquier otra cosa para continuar)?: 0\n"
     ]
    }
   ],
   "source": [
    "salida=1\n",
    "a=np.array(['PIEDRA','PAPEL','TIJERAS'])\n",
    "posibilidades=[['PIEDRA','PAPEL'],['PIEDRA','TIJERAS'],['PAPEL','PIEDRA'],\n",
    "               ['PAPEL','TIJERAS'],['TIJERAS','PIEDRA'],['TIJERAS','PAPEL']]\n",
    "dicc={'a':'PIEDRA','b':'PAPEL','c':'TIJERAS'}\n",
    "print('Bienvenido al juego de Piedra, Papel o Tijeras')\n",
    "print('Escribe todas tus respuestas en minúsculas (\"a\", \"b\" o \"c\"):\\n a)PIEDRA, b)PAPEL o c)TIJERAS')\n",
    "while salida!='0':\n",
    "    resultados=[]\n",
    "    try:\n",
    "        resultados.append(dicc[input('¿Qué eliges, \"a\", \"b\" o \"c\"?: ')])\n",
    "    except KeyError:\n",
    "        print('No sabes leer o qué karnal?')\n",
    "        continue\n",
    "    print(f'Usuario eligió {resultados[0]}')\n",
    "    resultados.append(np.random.choice(a))\n",
    "    print(f'Computadora eligió {resultados[1]}')\n",
    "    if resultados[0]==resultados[1]:\n",
    "        print('Ups! Hubo un empate')\n",
    "    elif resultados==posibilidades[0]:\n",
    "        print('Papel gana a piedra: gana la compu 3:')\n",
    "    elif resultados==posibilidades[1]:\n",
    "        print('Piedra gana a tijeras: gana el usuario :3')\n",
    "    elif resultados==posibilidades[2]:\n",
    "        print('Papel gana a piedra: gana el usuario :3')\n",
    "    elif resultados==posibilidades[3]:\n",
    "        print('Tijeras gana a papel: gana la compu 3:')\n",
    "    elif resultados==posibilidades[4]:\n",
    "        print('Piedra gana a tijeras: gana la compu 3:')\n",
    "    elif resultados==posibilidades[5]:\n",
    "        print('Tijeras gana a papel: gana el usuario :3')\n",
    "    else:\n",
    "        print('Algo salió mal krnal')\n",
    "    salida=input('¿Quieres continuar (escribe 0 si no, cualquier otra cosa para continuar)?: ')\n",
    "    "
   ]
  }
 ],
 "metadata": {
  "kernelspec": {
   "display_name": "Python 3",
   "language": "python",
   "name": "python3"
  },
  "language_info": {
   "codemirror_mode": {
    "name": "ipython",
    "version": 3
   },
   "file_extension": ".py",
   "mimetype": "text/x-python",
   "name": "python",
   "nbconvert_exporter": "python",
   "pygments_lexer": "ipython3",
   "version": "3.7.6"
  }
 },
 "nbformat": 4,
 "nbformat_minor": 4
}
